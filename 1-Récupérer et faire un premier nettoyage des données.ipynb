{
 "cells": [
  {
   "cell_type": "markdown",
   "metadata": {},
   "source": [
    "# 1- Récupérer et faire un premier nettoyage des données"
   ]
  },
  {
   "cell_type": "markdown",
   "metadata": {},
   "source": [
    "Dans ce notebook, on va collecter toutes les parties que j'ai jouées sur Lichess et les transformer en un jeu de données nettoyé pour construire un modèle de prédiction de mes défaites."
   ]
  },
  {
   "cell_type": "markdown",
   "metadata": {},
   "source": [
    "**Récupérer les données sur l'API Lichess**"
   ]
  },
  {
   "cell_type": "markdown",
   "metadata": {},
   "source": [
    "On va utiliser l'API de Lichess pour télécharger toutes les parties que j'ai jouées sur le site.                 \n",
    "Il suffit d'effectuer la requête: https://lichess.org/api/games/user/{username}                     \n",
    "et de remplacer {username} par le nom de l'utilisateur qui nous intéresse.                      \n",
    "Dan mon cas, il s'agit de Younessovitch."
   ]
  },
  {
   "cell_type": "markdown",
   "metadata": {},
   "source": [
    "**Importer les librairies**"
   ]
  },
  {
   "cell_type": "code",
   "execution_count": 11,
   "metadata": {},
   "outputs": [],
   "source": [
    "import pandas as pd #données tabulaires\n",
    "import numpy as np #algébre linéaire"
   ]
  },
  {
   "cell_type": "markdown",
   "metadata": {},
   "source": [
    "**Transformer le fichier pgn en pandas dataframe**"
   ]
  },
  {
   "cell_type": "code",
   "execution_count": 12,
   "metadata": {},
   "outputs": [],
   "source": [
    "def parse_pgn(file_path):\n",
    "    with open(file_path, 'r') as file:\n",
    "        pgn_data = file.read()\n",
    "    games = pgn_data.strip().split('\\n\\n\\n')\n",
    "    game_details = []\n",
    "    for game in games:\n",
    "        details = {}\n",
    "        lines = game.split('\\n')\n",
    "        for line in lines:\n",
    "            if line.startswith('['):\n",
    "                key, value = line.strip('[]').split(' ', 1)\n",
    "                details[key] = value.strip('\"')\n",
    "            else:\n",
    "                details['Moves'] = line.strip()\n",
    "        game_details.append(details)\n",
    "    return pd.DataFrame(game_details)\n",
    "\n",
    "filename = 'lichess_pgn.pgn' #le fichier contenant toutes les parties\n",
    "df_games = parse_pgn(filename)"
   ]
  },
  {
   "cell_type": "code",
   "execution_count": 13,
   "metadata": {},
   "outputs": [
    {
     "data": {
      "text/plain": [
       "Event                                               Rated Blitz game\n",
       "Site                                    https://lichess.org/BWrCDI0J\n",
       "Date                                                      2023.12.16\n",
       "White                                                  Younessovitch\n",
       "Black                                                       llewor32\n",
       "Result                                                           1-0\n",
       "UTCDate                                                   2023.12.16\n",
       "UTCTime                                                     08:31:29\n",
       "WhiteElo                                                        1495\n",
       "BlackElo                                                        1526\n",
       "WhiteRatingDiff                                                   +6\n",
       "BlackRatingDiff                                                   -6\n",
       "Variant                                                     Standard\n",
       "TimeControl                                                    180+2\n",
       "ECO                                                              A40\n",
       "Termination                                                   Normal\n",
       "Moves              1. d4 e5 2. d5 Bc5 3. e4 d6 4. c4 c6 5. a3 Nf6...\n",
       "Name: 0, dtype: object"
      ]
     },
     "execution_count": 13,
     "metadata": {},
     "output_type": "execute_result"
    }
   ],
   "source": [
    "df_games.iloc[0]"
   ]
  },
  {
   "cell_type": "markdown",
   "metadata": {},
   "source": [
    "A ce stade, nos données sont transformées en pandas dataframe."
   ]
  },
  {
   "cell_type": "markdown",
   "metadata": {},
   "source": [
    "On va étudier chaque caractéristique une par une pour en extraire l'information utile"
   ]
  },
  {
   "cell_type": "markdown",
   "metadata": {},
   "source": [
    "**Event**"
   ]
  },
  {
   "cell_type": "markdown",
   "metadata": {},
   "source": [
    "On va se séparer de cette caractéristique car TimeControl offre des informaitons plus précises sur les temps de parties jouées"
   ]
  },
  {
   "cell_type": "markdown",
   "metadata": {},
   "source": [
    "**Site**\n",
    "\n",
    "La caractéristique Site est magnifique pour une analyse humaine des parties. Elle ne se prêtera en revanche pas à notre étude. On va s'en séparer."
   ]
  },
  {
   "cell_type": "markdown",
   "metadata": {},
   "source": [
    "**Date**"
   ]
  },
  {
   "cell_type": "markdown",
   "metadata": {},
   "source": [
    "On va se séparer de cette caractéristique car elle fait doublon avec UTCDate"
   ]
  },
  {
   "cell_type": "markdown",
   "metadata": {},
   "source": [
    "**White and Black**                 \n",
    "On va extraire la couleur avec laquelle j'ai joué et le nom de mon adversaire"
   ]
  },
  {
   "cell_type": "markdown",
   "metadata": {},
   "source": [
    "**Result**\n",
    "\n",
    "On va extraire mon résultat"
   ]
  },
  {
   "cell_type": "markdown",
   "metadata": {},
   "source": [
    "**UTCDate et UTCTime**               \n",
    "On va extraire la date et l'heure précise de la partie"
   ]
  },
  {
   "cell_type": "markdown",
   "metadata": {},
   "source": [
    "**WhiteElo et BlackElo**\n",
    "\n",
    "On va extraire mon Elo et celui de mon adversaire ainsi que la différence entre les deux "
   ]
  },
  {
   "cell_type": "markdown",
   "metadata": {},
   "source": [
    "**WhiteRatingDiff et BlackRatingDiff**\n",
    "\n",
    "On va extraire l'évolution de mon classement et celle de mon adversaire"
   ]
  },
  {
   "cell_type": "markdown",
   "metadata": {},
   "source": [
    "**Variant**                 \n",
    "On va se séparer de cette caractéristique car elle ne prend qu'une seule valeur"
   ]
  },
  {
   "cell_type": "markdown",
   "metadata": {},
   "source": [
    "**TimeControl**"
   ]
  },
  {
   "cell_type": "code",
   "execution_count": 14,
   "metadata": {},
   "outputs": [
    {
     "data": {
      "text/plain": [
       "180+2      10362\n",
       "60+0        7687\n",
       "600+0        132\n",
       "300+0         54\n",
       "120+1         46\n",
       "-             36\n",
       "300+3         32\n",
       "10800+0        2\n",
       "180+0          1\n",
       "300+4          1\n",
       "Name: TimeControl, dtype: int64"
      ]
     },
     "execution_count": 14,
     "metadata": {},
     "output_type": "execute_result"
    }
   ],
   "source": [
    "df_games['TimeControl'].value_counts()"
   ]
  },
  {
   "cell_type": "markdown",
   "metadata": {},
   "source": [
    "On ne garde que les formats 180+2s et 60+0s car ils représentent la quasi totalité des parties"
   ]
  },
  {
   "cell_type": "markdown",
   "metadata": {},
   "source": [
    "**ECO**\n",
    "\n",
    "La caractéristique ECO permet de caractériser la variante jouée dans la partie (l'ouverture en gros). On ne va pas y toucher. C'est une caractéristique super importante!"
   ]
  },
  {
   "cell_type": "code",
   "execution_count": 15,
   "metadata": {},
   "outputs": [
    {
     "data": {
      "text/plain": [
       "count     243.000000\n",
       "mean       75.526749\n",
       "std       159.874209\n",
       "min         1.000000\n",
       "25%         2.500000\n",
       "50%        13.000000\n",
       "75%        71.000000\n",
       "max      1214.000000\n",
       "Name: ECO, dtype: float64"
      ]
     },
     "execution_count": 15,
     "metadata": {},
     "output_type": "execute_result"
    }
   ],
   "source": [
    "df_games['ECO'].value_counts().describe()"
   ]
  },
  {
   "cell_type": "markdown",
   "metadata": {},
   "source": [
    "**Termination**                 \n",
    "On va utiliser Termination et Moves pour construire le mode de terminaison d'une partie (abandon, montre, échec et mat)"
   ]
  },
  {
   "cell_type": "markdown",
   "metadata": {},
   "source": [
    "**Moves**               \n",
    "On va extraire le nombre de coups de la partie. On va aussi garder Moves tel quel. Il y a de la valeur dans cette caractéristique. On verra dans la suite comment l'exploiter."
   ]
  },
  {
   "cell_type": "code",
   "execution_count": 40,
   "metadata": {},
   "outputs": [],
   "source": [
    "def transform_data(df_games=df_games):\n",
    "    df_games = df_games.copy()\n",
    "    \n",
    "    #remove rows with missing entries\n",
    "    df_games = df_games.dropna()\n",
    "    #transformer la date en datetime\n",
    "    df_games['DateTime'] = pd.to_datetime(df_games['UTCDate'] +' '+ df_games['UTCTime'])\n",
    "    \n",
    "    #ma couleur\n",
    "    my_name = 'Younessovitch'\n",
    "    df_games['MyColor'] = df_games['White'].apply(lambda x: 'White' if (x == my_name) else 'Black')\n",
    "    \n",
    "    #nom de l'adversaire\n",
    "    df_games['OpponentName']= df_games.apply(lambda x: x.Black if x.MyColor=='White' else x.White, axis=1)\n",
    "\n",
    "    #mon résultat (tout ce qui n'est pas une victoire est une défaite)\n",
    "    def get_result(color,result):\n",
    "        return (color=='White' and result=='1-0') or (color=='Black' and result=='0-1')\n",
    "\n",
    "    df_games['MyResult'] = df_games.apply(lambda x: 'Win' if ((x.MyColor=='White' and x.Result=='1-0') or (x.MyColor=='Black' and x.Result=='0-1')) else 'Defeat', axis=1)\n",
    "    df_games['Win']=(df_games['MyResult']=='Win')\n",
    "    #Mon Elo et celui de mon adversaire\n",
    "    df_games['WhiteElo'] = df_games['WhiteElo'].replace({'?':'0'})\n",
    "    df_games['WhiteElo'] = df_games[\"WhiteElo\"].astype(int)\n",
    "    df_games['BlackElo'] = df_games['BlackElo'].replace({'?':'0'})\n",
    "    df_games['BlackElo'] = df_games[\"BlackElo\"].astype(int)\n",
    "    def get_elo(color, white_elo, black_elo):\n",
    "        if color == 'White':\n",
    "            return white_elo\n",
    "        else:\n",
    "            return black_elo\n",
    "    #Mon Elo\n",
    "    df_games['MyElo'] = df_games.apply(lambda x: get_elo(x.MyColor,x.WhiteElo,x.BlackElo),axis=1)\n",
    "    \n",
    "    #Elo de mon adversaire\n",
    "    df_games['OpponentElo'] = df_games.apply(lambda x: get_elo(x.MyColor,x.BlackElo,x.WhiteElo),axis=1)\n",
    "    \n",
    "    #Différence d'Elo au début de la partie\n",
    "    df_games['EloDifference'] = df_games['MyElo']-df_games['OpponentElo']\n",
    "    \n",
    "    #Evolution des classements à la fin de la partie\n",
    "    df_games['WhiteRatingDiff'] = df_games['WhiteRatingDiff'].dropna()\n",
    "    df_games['BlackRatingDiff'] = df_games['BlackRatingDiff'].dropna()    \n",
    "    df_games['MyRatingDiff']= df_games.apply(lambda x: int(x.WhiteRatingDiff) if x.MyColor=='White' else int(x.BlackRatingDiff), axis=1)\n",
    "    df_games['OpponentRatingDiff']= df_games.apply(lambda x: int(x.WhiteRatingDiff) if x.MyColor=='Black' else int(x.BlackRatingDiff), axis=1)\n",
    "\n",
    "    #Mode de terminaison de la partie\n",
    "    def get_finish(termination, moves):\n",
    "        if termination == 'Time forfeit':\n",
    "            return 'TimeOut'\n",
    "        elif '#' in moves:\n",
    "            return 'Checkmate'\n",
    "        else:\n",
    "            return 'Resignment'\n",
    "    df_games['Finish'] = df_games.apply(lambda x: get_finish(x.Termination,x.Moves),axis=1)\n",
    "    \n",
    "    # se séparer des colonnes inutiles\n",
    "    df_games = df_games.drop(['Site','Date','UTCDate','UTCTime', 'White','Black','Result','WhiteElo','BlackElo',\n",
    "                             'WhiteRatingDiff','BlackRatingDiff','Variant','Event','Termination'], axis=1)    \n",
    "    df_games = df_games.set_index('DateTime').sort_index()\n",
    "    df_games['GameId'] = np.arange(df_games.shape[0])\n",
    "    return df_games\n",
    "\n",
    "new_games = transform_data(df_games)\n"
   ]
  },
  {
   "cell_type": "code",
   "execution_count": 41,
   "metadata": {},
   "outputs": [],
   "source": [
    "new_games = new_games[['GameId','TimeControl','MyColor','OpponentName','MyElo','OpponentElo','EloDifference','ECO','Moves','MyRatingDiff','OpponentRatingDiff','Finish','MyResult','Win']]"
   ]
  },
  {
   "cell_type": "code",
   "execution_count": 42,
   "metadata": {},
   "outputs": [
    {
     "data": {
      "text/plain": [
       "GameId                                                                0\n",
       "TimeControl                                                       600+0\n",
       "MyColor                                                           Black\n",
       "OpponentName                                                    arilico\n",
       "MyElo                                                              1500\n",
       "OpponentElo                                                        1404\n",
       "EloDifference                                                        96\n",
       "ECO                                                                 C20\n",
       "Moves                 1. e4 e5 2. Qf3 Nf6 3. Nc3 b6 4. Bc4 Bb7 5. Nd...\n",
       "MyRatingDiff                                                       -230\n",
       "OpponentRatingDiff                                                    9\n",
       "Finish                                                          TimeOut\n",
       "MyResult                                                         Defeat\n",
       "Win                                                               False\n",
       "Name: 2017-06-04 20:33:05, dtype: object"
      ]
     },
     "execution_count": 42,
     "metadata": {},
     "output_type": "execute_result"
    }
   ],
   "source": [
    "new_games.iloc[0]"
   ]
  },
  {
   "cell_type": "code",
   "execution_count": 43,
   "metadata": {},
   "outputs": [],
   "source": [
    "new_games.to_csv('CleanLichessData.csv')"
   ]
  },
  {
   "cell_type": "markdown",
   "metadata": {},
   "source": [
    "Notre jeu de données contient désormais les informations utiles pour analyser nos parties. Il est conçu de sorte à être facilement compréhensible par un humain.                   \n",
    "La prochaine étape est d'en faire une étude exploratoire pour en dégager des tendances.               \n",
    "On va aussi numériser et normaliser toutes les caractéristiques utiles pour pouvoir lui appliquer des modèles de Machine Learning"
   ]
  },
  {
   "cell_type": "markdown",
   "metadata": {},
   "source": [
    "# Fin \n"
   ]
  },
  {
   "cell_type": "markdown",
   "metadata": {},
   "source": [
    "**Fait par Youness Khanjar**"
   ]
  }
 ],
 "metadata": {
  "kernelspec": {
   "display_name": "Python 3",
   "language": "python",
   "name": "python3"
  },
  "language_info": {
   "codemirror_mode": {
    "name": "ipython",
    "version": 3
   },
   "file_extension": ".py",
   "mimetype": "text/x-python",
   "name": "python",
   "nbconvert_exporter": "python",
   "pygments_lexer": "ipython3",
   "version": "3.7.6"
  }
 },
 "nbformat": 4,
 "nbformat_minor": 4
}
